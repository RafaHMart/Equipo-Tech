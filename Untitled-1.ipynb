{
 "cells": [
  {
   "cell_type": "code",
   "execution_count": null,
   "metadata": {},
   "outputs": [],
   "source": [
    "import random\n",
    "import string\n",
    "\n",
    "mis_nombres = ['Andres', 'Juan', 'Mauricio', 'Alejandra', 'Carlos', 'Daniela', 'Juan', 'Laura', 'Sebastian', 'Maria',\n",
    "               'David', 'Sofia', 'Esteban', 'Juliana', 'Mateo', 'Valentina', 'Nicolas', 'Isabella', 'Juan Sebastian',\n",
    "               'Luisa', 'Sergio', 'Manuela', 'Miguel', 'Salome', 'Samuel', 'Jose', 'Jorge', 'Andrea', 'Luis', 'Camila',\n",
    "               'Diego', 'Paula', 'Juan David', 'Stephanie', 'Jose David', 'Natalia', 'Santiago', 'Melissa', 'Brian', \n",
    "               'Jessica', 'Juan Manuel', 'Sara', 'Kevin', 'Maria Fernanda', 'Cristian', 'Mariana', 'Juan Pablo', \n",
    "               'Victoria', 'Gabriel', 'Jimena', 'Jairo', 'Paola', 'Julio']\n",
    "mis_apellidos = ['Rodriguez', 'Gonzalez', 'Gomez', 'Perez', 'Garcia', 'Hernandez', 'Martinez', 'Lopez', 'Sanchez', \n",
    "                 'Pereira', 'Ramirez', 'Fernandez', 'Torres', 'Aguilar', 'Jimenez', 'Diaz', 'Ortiz', 'Vargas',\n",
    "                 'Gutierrez', 'Molina', 'Villa', 'Alvarez', 'Serrano', 'Mendoza', 'Rojas', 'Lozano', 'Cortes',\n",
    "                 'Figueroa', 'Suarez', 'Rivera', 'Nuñez', 'Reyes', 'Trujillo', 'Marin', 'Castro', 'Rangel',\n",
    "                 'Cabrera', 'Herrera', 'Mora', 'Paz', 'Ibañez', 'Osorio', 'Estrada', 'Cadavid', 'Gallego', \n",
    "                 'Gil', 'Montoya', 'Quintero', 'Bernal', 'Chavez', 'Mendez']\n",
    "mis_dominios = ['@gmail.com', '@hotmail.com', '@outlook.com', '@hubspot.com', '@mailbox.com', '@yahoo.com', '@yahoo.es', '@outlook.es']\n",
    "\n",
    "def generar_password(longitud):\n",
    "    caracteres = string.ascii_letters + string.digits\n",
    "    password = ''.join(random.choice(caracteres) for i in range(longitud))\n",
    "    if (any(c.islower() for c in password) and\n",
    "            any(c.isupper() for c in password) and\n",
    "            any(c.isdigit() for c in password)):\n",
    "        return password\n",
    "    else:\n",
    "        return generar_password(longitud)\n",
    "\n",
    "def generar_json(cantidad):\n",
    "    json_data = []\n",
    "    for i in range(cantidad):\n",
    "        nombre = random.choice(mis_nombres) + ' ' + random.choice(mis_apellidos)\n",
    "        email = f\"{nombre.lower().split()[0]}{random.randint(10, 9999)}{random.choice(mis_dominios)}\"\n",
    "        password = generar_password(random.randint(5, 9))\n",
    "        json_data.append({\"nombre\": nombre, \"email\": email, \"password\": password})\n",
    "    return json_data\n",
    "\n",
    "data = generar_json(500000)\n",
    "data"
   ]
  }
 ],
 "metadata": {
  "language_info": {
   "name": "python"
  }
 },
 "nbformat": 4,
 "nbformat_minor": 2
}
